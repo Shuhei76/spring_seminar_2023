{
  "cells": [
    {
      "cell_type": "markdown",
      "metadata": {
        "id": "wJU2RPpSvlQT"
      },
      "source": [
        "# 12：ハイパーパラメータの探索と検証データ\n",
        "\n",
        "\n",
        "---\n",
        "## 目的\n",
        "CNNを用いたMNISTデータセット文字認識を通じて，ハイパーパラメータの探索・検証および検証データの役割について理解する．\n",
        "\n",
        "また，ここではGPUを用いたネットワークの計算を行う．\n"
      ]
    },
    {
      "cell_type": "markdown",
      "metadata": {
        "id": "5rQGfxWYK_4O"
      },
      "source": [
        "## 準備\n",
        "\n",
        "### Google Colaboratoryの設定確認・変更\n",
        "本チュートリアルではPyTorchを利用してニューラルネットワークの実装を確認，学習および評価を行います．\n",
        "**GPUを用いて処理を行うために，上部のメニューバーの「ランタイム」→「ランタイムのタイプを変更」からハードウェアアクセラレータをGPUにしてください．**\n"
      ]
    },
    {
      "cell_type": "markdown",
      "metadata": {
        "id": "Xo4jjpmwvle1"
      },
      "source": [
        "## モジュールのインポート\n",
        "はじめに必要なモジュールをインポートする．\n",
        "\n",
        "### GPUの確認\n",
        "GPUを使用した計算が可能かどうかを確認します．\n",
        "\n",
        "`GPU availability: True`と表示されれば，GPUを使用した計算をPyTorchで行うことが可能です．\n",
        "Falseとなっている場合は，上記の「Google Colaboratoryの設定確認・変更」に記載している手順にしたがって，設定を変更した後に，モジュールのインポートから始めてください．\n"
      ]
    },
    {
      "cell_type": "code",
      "execution_count": 1,
      "metadata": {
        "id": "iCeaCulfvlao",
        "outputId": "87e01ad0-0c0e-4206-daca-3ee1b2f42ece",
        "colab": {
          "base_uri": "https://localhost:8080/"
        }
      },
      "outputs": [
        {
          "output_type": "stream",
          "name": "stdout",
          "text": [
            "Use CUDA: True\n"
          ]
        }
      ],
      "source": [
        "# モジュールのインポート\n",
        "import os\n",
        "from time import time\n",
        "import numpy as np\n",
        "import torch\n",
        "import torch.nn as nn\n",
        "\n",
        "import torchvision\n",
        "import torchvision.transforms as transforms\n",
        "\n",
        "import torchsummary\n",
        "\n",
        "import gzip\n",
        "from random import randint\n",
        "\n",
        "import matplotlib.pyplot as plt\n",
        "\n",
        "# GPUの確認\n",
        "use_cuda = torch.cuda.is_available()\n",
        "print('Use CUDA:', use_cuda)"
      ]
    },
    {
      "cell_type": "markdown",
      "metadata": {
        "id": "9nbdiIyZId5i"
      },
      "source": [
        "## データセットのダウンロードと読み込みと学習サンプルの削減\n",
        "\n",
        "\n",
        "まずはじめに，`wget`コマンドを使用して，MNISTデータセットをダウンロードします．"
      ]
    },
    {
      "cell_type": "code",
      "execution_count": 2,
      "metadata": {
        "id": "N1LbRsqxIfoF"
      },
      "outputs": [],
      "source": [
        "!wget -q http://yann.lecun.com/exdb/mnist/train-images-idx3-ubyte.gz -O train-images-idx3-ubyte.gz\n",
        "!wget -q http://yann.lecun.com/exdb/mnist/train-labels-idx1-ubyte.gz -O train-labels-idx1-ubyte.gz\n",
        "!wget -q http://yann.lecun.com/exdb/mnist/t10k-images-idx3-ubyte.gz -O t10k-images-idx3-ubyte.gz\n",
        "!wget -q http://yann.lecun.com/exdb/mnist/t10k-labels-idx1-ubyte.gz -O t10k-labels-idx1-ubyte.gz"
      ]
    },
    {
      "cell_type": "markdown",
      "metadata": {
        "id": "K5R2ghpzIqyf"
      },
      "source": [
        "次に，ダウンロードしたファイルからデータを読み込みます．詳細は前回までのプログラムを確認してください．\n",
        "\n",
        "今回は2次元の画像データとしてMNISTデータセットを扱うため，\n",
        "データを`(チャンネル, 縦，横)`の形に並べ替えます．"
      ]
    },
    {
      "cell_type": "code",
      "execution_count": 3,
      "metadata": {
        "id": "JlChw880IqDC",
        "outputId": "cb0bf217-129a-45ae-abcc-aa2f763c8ce3",
        "colab": {
          "base_uri": "https://localhost:8080/"
        }
      },
      "outputs": [
        {
          "output_type": "stream",
          "name": "stdout",
          "text": [
            "(60000, 1, 28, 28) (60000,)\n",
            "(10000, 1, 28, 28) (10000,)\n"
          ]
        }
      ],
      "source": [
        "# load images\n",
        "with gzip.open('train-images-idx3-ubyte.gz', 'rb') as f:\n",
        "    x_train = np.frombuffer(f.read(), np.uint8, offset=16)\n",
        "x_train = x_train.reshape(-1, 784)\n",
        "\n",
        "with gzip.open('t10k-images-idx3-ubyte.gz', 'rb') as f:\n",
        "    x_test = np.frombuffer(f.read(), np.uint8, offset=16)\n",
        "x_test = x_test.reshape(-1, 784)\n",
        "\n",
        "with gzip.open('train-labels-idx1-ubyte.gz', 'rb') as f:\n",
        "    y_train = np.frombuffer(f.read(), np.uint8, offset=8)\n",
        "\n",
        "with gzip.open('t10k-labels-idx1-ubyte.gz', 'rb') as f:\n",
        "    y_test = np.frombuffer(f.read(), np.uint8, offset=8)\n",
        "\n",
        "x_train = x_train.reshape(-1, 1, 28, 28)\n",
        "x_test = x_test.reshape(-1, 1, 28, 28)\n",
        "\n",
        "print(x_train.shape, y_train.shape)\n",
        "print(x_test.shape, y_test.shape)"
      ]
    },
    {
      "cell_type": "markdown",
      "metadata": {
        "id": "G8w7yul9UBOc"
      },
      "source": [
        "## 検証データの作成\n",
        "\n",
        "ネットワークの学習やモデルの定義には多くのハイパーパラメータが存在します．例えば，\n",
        "* ネットワークのハイパーパラメータ\n",
        "  * 中間層の層数\n",
        "  * 中間層のユニット数\n",
        "  * Dropoutを適用するかどうか（Dropoutを用いる場所やdropout ratio）\n",
        "  * Batch Normalizationを適用するかどうか\n",
        "\n",
        "* 学習のハイパーパラメータ\n",
        "  * 学習率\n",
        "  * 学習回数\n",
        "  * ミニバッチサイズ\n",
        "\n",
        "などが挙げられます．\n",
        "\n",
        "最適なハイパーパラメータを決定するために使用するデータを**検証データ（validation data）**と呼びます．\n",
        "\n",
        "MNISTデータセットには学習データ（train data）とテストデータ（test data）しか存在しません．このように，専用の検証データが存在しないデータセットや個人が作成したオリジナルのデータセットでは，学習データの一部を検証データとして使用します．\n",
        "\n",
        "以下では，MNISTデータセットの学習データを分割し，学習および検証データを作成します．\n",
        "まず，検証データに使用するデータの割合を`validation_ratio`として定義します．\n",
        "今回は学習データの20%を検証データとして使用することとし，0.2と指定します．\n",
        "この割合に基づいて，学習データの20%となるサンプル数を`n_val`として計算します．\n",
        "\n",
        "その後，学習および検証データになるよう，データを分割します．\n",
        "\n",
        "実行すると，60000枚の学習サンプルの20%である12000枚が検証データ，残りの80%の48000枚が学習データになるよう分割されていることがわかります．\n"
      ]
    },
    {
      "cell_type": "code",
      "execution_count": 4,
      "metadata": {
        "id": "cnMbRmPTUBUn",
        "outputId": "7c5a72f9-c76a-48e1-e01a-841b75fd71b1",
        "colab": {
          "base_uri": "https://localhost:8080/"
        }
      },
      "outputs": [
        {
          "output_type": "stream",
          "name": "stdout",
          "text": [
            "train      : (48000, 1, 28, 28) (48000,)\n",
            "validation : (12000, 1, 28, 28) (12000,)\n",
            "test       : (10000, 1, 28, 28) (10000,)\n"
          ]
        }
      ],
      "source": [
        "validation_ratio = 0.2   # 検証に使用するデータの割合\n",
        "n_train_original = x_train.shape[0]\n",
        "n_val = int(n_train_original * validation_ratio)\n",
        "\n",
        "# 検証データ\n",
        "x_val = x_train[0:n_val]\n",
        "y_val = y_train[0:n_val]\n",
        "\n",
        "# 学習データ\n",
        "x_train = x_train[n_val:]\n",
        "y_train = y_train[n_val:]\n",
        "\n",
        "print(\"train      :\", x_train.shape, y_train.shape)\n",
        "print(\"validation :\", x_val.shape, y_val.shape)\n",
        "print(\"test       :\", x_test.shape, y_test.shape)"
      ]
    },
    {
      "cell_type": "markdown",
      "metadata": {
        "id": "xgDd3iX2zmSV"
      },
      "source": [
        "## ネットワークモデルの定義\n",
        "畳み込みニューラルネットワークを定義します．\n",
        "\n",
        "ここでは，畳み込み層1層，全結合層2層から構成されるネットワークとします．\n",
        "\n",
        "ここでは，最適なネットワーク構造をハイパーパラメータとして探索するために，ネットワーク構造のパラメータをクラスの引数として定義し，任意のサイズのネットワークを作成できるようにクラス定義を行います．\n",
        "\n",
        "1層目の畳み込み層は入力チャンネル数を`in_channels`，出力する特徴マップ数を`out_channels`，畳み込むフィルタサイズを`kernel_size`$\\times$`kernel_size`として定義します．\n",
        "1つ目の全結合層は入力ユニット数は畳み込みの特徴マップ数から自動で計算し，出力を`hidden_size`として定義します．\n",
        "これらの各層の構成を`__init__`関数で定義します．\n",
        "\n",
        "次に，`forward`関数では，定義した層を接続して処理するように記述します．"
      ]
    },
    {
      "cell_type": "code",
      "execution_count": 5,
      "metadata": {
        "id": "TNHnp_YczmY3"
      },
      "outputs": [],
      "source": [
        "class CNN(nn.Module):\n",
        "    def __init__(self, in_channels=1, out_channels= 64, kernel_size=3, hidden_size=128):\n",
        "        super().__init__()\n",
        "        self.conv = nn.Conv2d(in_channels, out_channels, kernel_size=kernel_size, stride=1, padding=1)\n",
        "        self.relu = nn.ReLU()\n",
        "        self.pool = nn.MaxPool2d(2, 2)\n",
        "        self.l1 = nn.Linear(int(28/2) * int(28/2) * out_channels, hidden_size)\n",
        "        self.l2 = nn.Linear(hidden_size, 10)\n",
        "    \n",
        "    def forward(self, x):\n",
        "        h = self.relu(self.conv(x))\n",
        "        h = self.pool(h)\n",
        "        h = h.view(h.size()[0], -1)\n",
        "        h = self.relu(self.l1(h))\n",
        "        h = self.l2(h)\n",
        "        return h"
      ]
    },
    {
      "cell_type": "markdown",
      "metadata": {
        "id": "zIPMneA4UMES"
      },
      "source": [
        "## 学習およびハイパーパラメータ探索の準備\n",
        "\n"
      ]
    },
    {
      "cell_type": "markdown",
      "metadata": {
        "id": "zEpMENsiUMI2"
      },
      "source": [
        "\n",
        "### 探索時に共通するパラメータの設定\n",
        "\n",
        "まずはじめに，探索時に共通するパラメータを定義します．\n",
        "具体的には，入力層のユニット数`input_size`および出力層のユニット数`output_size`は，探索時には共通であるため，事前に定義しておきます．\n",
        "また，学習，検証データのサンプル数もすでに決まっているため，変数として定義しておきます．"
      ]
    },
    {
      "cell_type": "code",
      "execution_count": 6,
      "metadata": {
        "id": "cqITHAy3UMQw"
      },
      "outputs": [],
      "source": [
        "input_size = x_train.shape[1]\n",
        "output_size = 10\n",
        "\n",
        "num_train_data = x_train.shape[0]\n",
        "num_val_data = x_val.shape[0]\n",
        "num_test_data = x_test.shape[0]"
      ]
    },
    {
      "cell_type": "markdown",
      "metadata": {
        "id": "A03OafHqUMXn"
      },
      "source": [
        "### 探索するパラメータの設定\n",
        "\n",
        "次に，検証データを用いて最適な値を求めたいパラメータを定義します．\n",
        "\n",
        "ここでは，畳み込み層のチャンネル数（``）のユニット数の最適な値を`channel_list = [32, 64, 128, 256]`の中から求めるものとし，他のパラメータは固定します．\n",
        "\n",
        "**下部にある課題ではその他のパラメータを探索しますが，その他のパラメータをリストとして定義して，探索しましょう．**\n",
        "\n",
        "また，パラメータの探索には複数回の学習を行う必要があり計算に多くの時間を要します．\n",
        "ここでは，実習中の計算時間削減のために，学習エポック数を10と小さい値に設定します．"
      ]
    },
    {
      "cell_type": "code",
      "execution_count": 7,
      "metadata": {
        "id": "-gnZyXtcUMc3"
      },
      "outputs": [],
      "source": [
        "n_hidden = 64\n",
        "# n_hidden_list = [16, 32, 64, 128, 256]\n",
        "\n",
        "channel_list = [32, 64, 128, 256]\n",
        "\n",
        "batch_size = 100\n",
        "n_iter = num_train_data / batch_size\n",
        "\n",
        "learning_rate = 0.01\n",
        "# learning_rate_list = [0.1, 0.05, 0.01, 0.005, 0.001]\n",
        "\n",
        "epoch_num = 10\n",
        "\n",
        "learning_rate = 0.01"
      ]
    },
    {
      "cell_type": "markdown",
      "metadata": {
        "id": "ZmDpq4r9Ujsj"
      },
      "source": [
        "## ハイパーパラメータ探索\n",
        "\n",
        "ハイパーパラメータ探索を行います．\n",
        "\n",
        "まず，各パラメータでの結果を保存するためのリスト`param_search_list`を作成します．\n",
        "\n",
        "次に，for文を用いて探索したいハイパーパラメータを一つづつ指定し，ネットワークの学習と検証データでの精度を求めます．\n",
        "ネットワークの学習プログラムは前回までのもの同様のため詳細は割愛します．\n",
        "\n",
        "学習が終了すると，探索したパラメータの値やその時の誤差および精度の推移のデータを辞書型オブジェクト`result`に格納し，それを`param_search_list`に保存します．\n",
        "\n",
        "これを繰り返すことで，各パラメータの値を用いた場合の精度や学習推移を確認比較することが可能となり，より精度の高いネットワークを構築するためのあたりをつけることができます．"
      ]
    },
    {
      "cell_type": "code",
      "execution_count": 8,
      "metadata": {
        "id": "jkOTUB2HUjyN",
        "outputId": "a859a1df-752a-4c7e-fe76-25ef2bd46382",
        "colab": {
          "base_uri": "https://localhost:8080/"
        }
      },
      "outputs": [
        {
          "output_type": "stream",
          "name": "stderr",
          "text": [
            "<ipython-input-8-9fcd9ad2c384>:58: UserWarning: The given NumPy array is not writable, and PyTorch does not support non-writable tensors. This means writing to this tensor will result in undefined behavior. You may want to copy the array to protect its data or make it writable before converting it to a tensor. This type of warning will be suppressed for the rest of this program. (Triggered internally at ../torch/csrc/utils/tensor_numpy.cpp:199.)\n",
            "  input = torch.from_numpy(input).type(torch.float32)\n"
          ]
        },
        {
          "output_type": "stream",
          "name": "stdout",
          "text": [
            "epoch: 1, mean loss: 2.1662218627830345, mean accuracy: 0.6967291666666666\n",
            "epoch: 2, mean loss: 0.397966418042779, mean accuracy: 0.87375\n",
            "epoch: 3, mean loss: 0.34887428808336457, mean accuracy: 0.889125\n",
            "epoch: 4, mean loss: 0.32546483841724694, mean accuracy: 0.896625\n",
            "epoch: 5, mean loss: 0.310071333621939, mean accuracy: 0.9029166666666667\n",
            "epoch: 6, mean loss: 0.2932103248157849, mean accuracy: 0.9065833333333333\n",
            "epoch: 7, mean loss: 0.28709993915011484, mean accuracy: 0.90875\n",
            "epoch: 8, mean loss: 0.28240817811650537, mean accuracy: 0.9096458333333334\n",
            "epoch: 9, mean loss: 0.27062670203546685, mean accuracy: 0.9131666666666667\n",
            "epoch: 10, mean loss: 0.2676516165956855, mean accuracy: 0.9155\n",
            "0.01 32 tensor(0.9155, device='cuda:0') 0.9105\n",
            "epoch: 1, mean loss: 6.108931885162989, mean accuracy: 0.13079166666666667\n",
            "epoch: 2, mean loss: 2.301559840142727, mean accuracy: 0.1123125\n",
            "epoch: 3, mean loss: 2.3015712852279346, mean accuracy: 0.1123125\n",
            "epoch: 4, mean loss: 2.3015813335776327, mean accuracy: 0.1123125\n",
            "epoch: 5, mean loss: 2.3014920726418495, mean accuracy: 0.1116875\n",
            "epoch: 6, mean loss: 2.3015684351325034, mean accuracy: 0.11160416666666667\n",
            "epoch: 7, mean loss: 2.30156586766243, mean accuracy: 0.1123125\n",
            "epoch: 8, mean loss: 2.3015590608119965, mean accuracy: 0.1123125\n",
            "epoch: 9, mean loss: 2.3015257755915326, mean accuracy: 0.1123125\n",
            "epoch: 10, mean loss: 2.3015918831030526, mean accuracy: 0.1123125\n",
            "0.01 64 tensor(0.1123, device='cuda:0') 0.11258333333333333\n",
            "epoch: 1, mean loss: 17.44500082383553, mean accuracy: 0.3091041666666667\n",
            "epoch: 2, mean loss: 1.52660360733668, mean accuracy: 0.4196875\n",
            "epoch: 3, mean loss: 1.4147725847860178, mean accuracy: 0.4483958333333333\n",
            "epoch: 4, mean loss: 1.331887010857463, mean accuracy: 0.4706666666666667\n",
            "epoch: 5, mean loss: 1.3159784603863955, mean accuracy: 0.4841875\n",
            "epoch: 6, mean loss: 1.2811771483470997, mean accuracy: 0.49514583333333334\n",
            "epoch: 7, mean loss: 1.3046113743136327, mean accuracy: 0.4957083333333333\n",
            "epoch: 8, mean loss: 1.213571468864878, mean accuracy: 0.52275\n",
            "epoch: 9, mean loss: 1.236782461280624, mean accuracy: 0.515375\n",
            "epoch: 10, mean loss: 1.1778352616975705, mean accuracy: 0.5444375\n",
            "0.01 128 tensor(0.5444, device='cuda:0') 0.5854166666666667\n",
            "epoch: 1, mean loss: 67.51450077885141, mean accuracy: 0.6926041666666667\n",
            "epoch: 2, mean loss: 0.3689268827593575, mean accuracy: 0.8830416666666666\n",
            "epoch: 3, mean loss: 0.2935101995244622, mean accuracy: 0.9067916666666667\n",
            "epoch: 4, mean loss: 0.24880599071426937, mean accuracy: 0.9205208333333333\n",
            "epoch: 5, mean loss: 0.2301379759175082, mean accuracy: 0.9270625\n",
            "epoch: 6, mean loss: 0.22618010320390264, mean accuracy: 0.9264375\n",
            "epoch: 7, mean loss: 0.2074946436410149, mean accuracy: 0.9338958333333334\n",
            "epoch: 8, mean loss: 0.195240294902275, mean accuracy: 0.9379166666666666\n",
            "epoch: 9, mean loss: 0.18655123990029096, mean accuracy: 0.9412083333333333\n",
            "epoch: 10, mean loss: 0.18233363647790005, mean accuracy: 0.9425416666666667\n",
            "0.01 256 tensor(0.9425, device='cuda:0') 0.92475\n"
          ]
        }
      ],
      "source": [
        "param_search_list = []\n",
        "\n",
        "# 誤差関数の設定\n",
        "criterion = nn.CrossEntropyLoss()\n",
        "if use_cuda:\n",
        "    criterion.cuda()\n",
        "\n",
        "for channel_size in channel_list:\n",
        "    model = CNN(out_channels=channel_size, hidden_size=n_hidden)\n",
        "    if use_cuda:\n",
        "        model.cuda()\n",
        "\n",
        "    optimizer = torch.optim.SGD(model.parameters(), lr=learning_rate, momentum=0.9)\n",
        "\n",
        "    epoch_list = []\n",
        "    train_loss_list = []\n",
        "    train_accuracy_list = []\n",
        "    val_accuracy_list = []\n",
        "\n",
        "    # ネットワークを学習モードへ変更\n",
        "    model.train()\n",
        "\n",
        "    iteration = 1\n",
        "    for epoch in range(1, epoch_num+1):\n",
        "        count, sum_loss = 0.0, 0.0\n",
        "        \n",
        "        perm = np.random.permutation(num_train_data)\n",
        "        for i in range(0, num_train_data, batch_size):\n",
        "            x_batch = x_train[perm[i:i+batch_size]]\n",
        "            y_batch = y_train[perm[i:i+batch_size]]\n",
        "\n",
        "            x_batch = torch.from_numpy(x_batch).type(torch.float32)\n",
        "            y_batch = torch.from_numpy(y_batch).type(torch.int64)\n",
        "\n",
        "            if use_cuda:\n",
        "                x_batch = x_batch.cuda()\n",
        "                y_batch = y_batch.cuda()\n",
        "\n",
        "            y = model(x_batch)\n",
        "\n",
        "            loss = criterion(y, y_batch)\n",
        "            \n",
        "            model.zero_grad()\n",
        "            loss.backward()\n",
        "            optimizer.step()\n",
        "\n",
        "            sum_loss += loss.item()\n",
        "            pred = torch.argmax(y, dim=1)\n",
        "            count += torch.sum(pred == y_batch)\n",
        "\n",
        "            iteration += 1\n",
        "            \n",
        "        # 検証データでの精度の確認\n",
        "        val_correct_count = 0\n",
        "        for i in range(num_val_data):\n",
        "            input = x_val[i:i+1]\n",
        "            label = y_val[i:i+1]\n",
        "            input = torch.from_numpy(input).type(torch.float32)\n",
        "            label = torch.from_numpy(label).type(torch.int64)\n",
        "            if use_cuda:\n",
        "                input = input.cuda()\n",
        "                label = label.cuda()\n",
        "            y = model(input)\n",
        "            pred = torch.argmax(y)\n",
        "            if pred == label:\n",
        "              val_correct_count += 1\n",
        "\n",
        "        # 学習途中のlossと精度の保存\n",
        "        epoch_list.append(epoch)\n",
        "        train_loss_list.append(sum_loss / num_train_data)\n",
        "        train_accuracy_list.append(count / num_train_data)\n",
        "        val_accuracy_list.append(val_correct_count / num_val_data)\n",
        "            \n",
        "        print(\"epoch: {}, mean loss: {}, mean accuracy: {}\".format(epoch,\n",
        "                                                                  sum_loss / n_iter,\n",
        "                                                                  count.item() / num_train_data))\n",
        "\n",
        "    # 探索した結果の保存\n",
        "    result = {'lr': learning_rate, 'channel_size': channel_size,\n",
        "              'val_acc': val_accuracy_list,\n",
        "              'train_acc': train_accuracy_list,\n",
        "              'train_loss': train_loss_list}\n",
        "    param_search_list.append(result)\n",
        "    print(result['lr'], result['channel_size'], result['train_acc'][-1], result['val_acc'][-1])"
      ]
    },
    {
      "cell_type": "markdown",
      "metadata": {
        "id": "119eIrSmzmw6"
      },
      "source": [
        "## 探索結果の確認\n",
        "\n",
        "`param_search_list`に保存しておいた各ハイパーパラメータに対する結果を確認します．\n",
        "\n",
        "まず，各結果の数値をprintします．\n",
        "その後，各パラメータでの学習推移（検証データ）をプロットし比較します．"
      ]
    },
    {
      "cell_type": "code",
      "execution_count": 9,
      "metadata": {
        "id": "yoYVMRGLzm1I",
        "outputId": "00ed7104-08ca-4d1a-dda8-d886a3e35d38",
        "colab": {
          "base_uri": "https://localhost:8080/",
          "height": 518
        }
      },
      "outputs": [
        {
          "output_type": "stream",
          "name": "stdout",
          "text": [
            "lr: 0.01 channel size 32 train accuracy: tensor(0.9155, device='cuda:0') validation accuracy: 0.9105\n",
            "lr: 0.01 channel size 64 train accuracy: tensor(0.1123, device='cuda:0') validation accuracy: 0.11258333333333333\n",
            "lr: 0.01 channel size 128 train accuracy: tensor(0.5444, device='cuda:0') validation accuracy: 0.5854166666666667\n",
            "lr: 0.01 channel size 256 train accuracy: tensor(0.9425, device='cuda:0') validation accuracy: 0.92475\n"
          ]
        },
        {
          "output_type": "display_data",
          "data": {
            "text/plain": [
              "<Figure size 640x480 with 1 Axes>"
            ],
            "image/png": "[encoded data removed]"
          },
          "metadata": {}
        }
      ],
      "source": [
        "# 学習結果の表示\n",
        "for ps in param_search_list:\n",
        "    print(\"lr:\", ps['lr'],\n",
        "          \"channel size\", ps['channel_size'],\n",
        "          \"train accuracy:\", ps['train_acc'][-1],\n",
        "          \"validation accuracy:\", ps['val_acc'][-1])\n",
        "\n",
        "# グラフプロット\n",
        "plt.figure()\n",
        "for ps in param_search_list:\n",
        "    plt.plot(ps['val_acc'], label='ch. size=%d' % ps['channel_size'])\n",
        "plt.xlabel(\"epoch\")     # x軸ラベル\n",
        "plt.ylabel(\"accuracy\")  # y軸ラベル\n",
        "plt.legend()            # 凡例\n",
        "plt.savefig(\"figure1.svg\")\n",
        "plt.show()"
      ]
    },
    {
      "cell_type": "markdown",
      "metadata": {
        "id": "vH36DIdfXWR5"
      },
      "source": [
        "## 課題\n",
        "1. 他のパラメータについても探索をして最適な値を見つけよう\n",
        "2. 複数種類のパラメータの最適な組み合わせを求めよう"
      ]
    },
    {
      "cell_type": "code",
      "execution_count": 10,
      "metadata": {
        "id": "MjS-WptIg9Pf",
        "outputId": "bfe1c810-43e4-4a48-fcc6-245f73277855",
        "colab": {
          "base_uri": "https://localhost:8080/"
        }
      },
      "outputs": [
        {
          "output_type": "stream",
          "name": "stdout",
          "text": [
            "epoch: 1, mean loss: 3.217514806985855, mean accuracy: 0.1095\n",
            "epoch: 2, mean loss: 2.3014593680699664, mean accuracy: 0.1119375\n",
            "epoch: 3, mean loss: 2.3015926336248715, mean accuracy: 0.1123125\n",
            "epoch: 4, mean loss: 2.301605122288068, mean accuracy: 0.1123125\n",
            "epoch: 5, mean loss: 2.3015451674660046, mean accuracy: 0.1123125\n",
            "epoch: 6, mean loss: 2.301581627627214, mean accuracy: 0.1123125\n",
            "epoch: 7, mean loss: 2.3015870188673335, mean accuracy: 0.1123125\n",
            "epoch: 8, mean loss: 2.301503830651442, mean accuracy: 0.1123125\n",
            "epoch: 9, mean loss: 2.3015385339657466, mean accuracy: 0.1123125\n",
            "epoch: 10, mean loss: 2.3015705635150274, mean accuracy: 0.1123125\n",
            "0.01 16 tensor(0.1123, device='cuda:0') 0.11258333333333333\n",
            "epoch: 1, mean loss: 7.869429870384435, mean accuracy: 0.4899375\n",
            "epoch: 2, mean loss: 0.696504610652725, mean accuracy: 0.7837708333333333\n",
            "epoch: 3, mean loss: 0.6241592748711506, mean accuracy: 0.8077083333333334\n",
            "epoch: 4, mean loss: 0.5899664207051197, mean accuracy: 0.82125\n",
            "epoch: 5, mean loss: 0.5687036988635857, mean accuracy: 0.8271666666666667\n",
            "epoch: 6, mean loss: 0.5531314060091972, mean accuracy: 0.8321666666666667\n",
            "epoch: 7, mean loss: 0.5441997608169913, mean accuracy: 0.8340416666666667\n",
            "epoch: 8, mean loss: 0.5299056318898996, mean accuracy: 0.8385833333333333\n",
            "epoch: 9, mean loss: 0.5208037518585722, mean accuracy: 0.8405\n",
            "epoch: 10, mean loss: 0.5096736981223027, mean accuracy: 0.8431666666666666\n",
            "0.01 32 tensor(0.8432, device='cuda:0') 0.8409166666666666\n",
            "epoch: 1, mean loss: 4.091627169974769, mean accuracy: 0.8615625\n",
            "epoch: 2, mean loss: 0.2529305080495154, mean accuracy: 0.9274166666666667\n",
            "epoch: 3, mean loss: 0.22612807347128788, mean accuracy: 0.9355416666666667\n",
            "epoch: 4, mean loss: 0.19469970430169875, mean accuracy: 0.9433958333333333\n",
            "epoch: 5, mean loss: 0.19997573043607797, mean accuracy: 0.94375\n",
            "epoch: 6, mean loss: 0.19613735368475319, mean accuracy: 0.945625\n",
            "epoch: 7, mean loss: 0.1767761384602636, mean accuracy: 0.9506041666666667\n",
            "epoch: 8, mean loss: 0.1732081074616872, mean accuracy: 0.9513541666666666\n",
            "epoch: 9, mean loss: 0.17481913834732646, mean accuracy: 0.9524583333333333\n",
            "epoch: 10, mean loss: 0.1520228588526758, mean accuracy: 0.9575208333333334\n",
            "0.01 64 tensor(0.9575, device='cuda:0') 0.9434166666666667\n",
            "epoch: 1, mean loss: 10.874599632900209, mean accuracy: 0.7541041666666667\n",
            "epoch: 2, mean loss: 0.3057897893246263, mean accuracy: 0.9097708333333333\n",
            "epoch: 3, mean loss: 0.2423652011435479, mean accuracy: 0.9285208333333334\n",
            "epoch: 4, mean loss: 0.22037674020199727, mean accuracy: 0.9363333333333334\n",
            "epoch: 5, mean loss: 0.201468684450568, mean accuracy: 0.9417708333333333\n",
            "epoch: 6, mean loss: 0.1831838920887094, mean accuracy: 0.9463958333333333\n",
            "epoch: 7, mean loss: 0.17415094823906355, mean accuracy: 0.9498541666666667\n",
            "epoch: 8, mean loss: 0.16724210789543575, mean accuracy: 0.9515833333333333\n",
            "epoch: 9, mean loss: 0.16973975945729763, mean accuracy: 0.9511666666666667\n",
            "epoch: 10, mean loss: 0.1524138338728032, mean accuracy: 0.9568541666666667\n",
            "0.01 128 tensor(0.9569, device='cuda:0') 0.9435833333333333\n",
            "epoch: 1, mean loss: 11.617930495273322, mean accuracy: 0.7434166666666666\n",
            "epoch: 2, mean loss: 0.392520597204566, mean accuracy: 0.8759375\n",
            "epoch: 3, mean loss: 0.33304402328406774, mean accuracy: 0.8935208333333333\n",
            "epoch: 4, mean loss: 0.2920603902855267, mean accuracy: 0.9079791666666667\n",
            "epoch: 5, mean loss: 0.27214707859481374, mean accuracy: 0.9124166666666667\n",
            "epoch: 6, mean loss: 0.2415464339700217, mean accuracy: 0.92225\n",
            "epoch: 7, mean loss: 0.22666473869855205, mean accuracy: 0.9267291666666667\n",
            "epoch: 8, mean loss: 0.21650841748341917, mean accuracy: 0.9307083333333334\n",
            "epoch: 9, mean loss: 0.2152692798525095, mean accuracy: 0.9306666666666666\n",
            "epoch: 10, mean loss: 0.20315381679683925, mean accuracy: 0.9336666666666666\n",
            "0.01 256 tensor(0.9337, device='cuda:0') 0.9245833333333333\n"
          ]
        }
      ],
      "source": [
        "n_hidden_list = [16, 32, 64, 128, 256]\n",
        "\n",
        "param_search_list = []\n",
        "\n",
        "# 誤差関数の設定\n",
        "criterion = nn.CrossEntropyLoss()\n",
        "if use_cuda:\n",
        "    criterion.cuda()\n",
        "\n",
        "for n_hidden in n_hidden_list:\n",
        "    model = CNN(hidden_size=n_hidden)\n",
        "    if use_cuda:\n",
        "        model.cuda()\n",
        "\n",
        "    optimizer = torch.optim.SGD(model.parameters(), lr=learning_rate, momentum=0.9)\n",
        "\n",
        "    epoch_list = []\n",
        "    train_loss_list = []\n",
        "    train_accuracy_list = []\n",
        "    val_accuracy_list = []\n",
        "\n",
        "    # ネットワークを学習モードへ変更\n",
        "    model.train()\n",
        "\n",
        "    iteration = 1\n",
        "    for epoch in range(1, epoch_num+1):\n",
        "        count, sum_loss = 0.0, 0.0\n",
        "        \n",
        "        perm = np.random.permutation(num_train_data)\n",
        "        for i in range(0, num_train_data, batch_size):\n",
        "            x_batch = x_train[perm[i:i+batch_size]]\n",
        "            y_batch = y_train[perm[i:i+batch_size]]\n",
        "\n",
        "            x_batch = torch.from_numpy(x_batch).type(torch.float32)\n",
        "            y_batch = torch.from_numpy(y_batch).type(torch.int64)\n",
        "\n",
        "            if use_cuda:\n",
        "                x_batch = x_batch.cuda()\n",
        "                y_batch = y_batch.cuda()\n",
        "\n",
        "            y = model(x_batch)\n",
        "\n",
        "            loss = criterion(y, y_batch)\n",
        "            \n",
        "            model.zero_grad()\n",
        "            loss.backward()\n",
        "            optimizer.step()\n",
        "\n",
        "            sum_loss += loss.item()\n",
        "            pred = torch.argmax(y, dim=1)\n",
        "            count += torch.sum(pred == y_batch)\n",
        "\n",
        "            iteration += 1\n",
        "            \n",
        "        # 検証データでの精度の確認\n",
        "        val_correct_count = 0\n",
        "        for i in range(num_val_data):\n",
        "            input = x_val[i:i+1]\n",
        "            label = y_val[i:i+1]\n",
        "            input = torch.from_numpy(input).type(torch.float32)\n",
        "            label = torch.from_numpy(label).type(torch.int64)\n",
        "            if use_cuda:\n",
        "                input = input.cuda()\n",
        "                label = label.cuda()\n",
        "            y = model(input)\n",
        "            pred = torch.argmax(y)\n",
        "            if pred == label:\n",
        "              val_correct_count += 1\n",
        "\n",
        "        # 学習途中のlossと精度の保存\n",
        "        epoch_list.append(epoch)\n",
        "        train_loss_list.append(sum_loss / num_train_data)\n",
        "        train_accuracy_list.append(count / num_train_data)\n",
        "        val_accuracy_list.append(val_correct_count / num_val_data)\n",
        "            \n",
        "        print(\"epoch: {}, mean loss: {}, mean accuracy: {}\".format(epoch,\n",
        "                                                                  sum_loss / n_iter,\n",
        "                                                                  count.item() / num_train_data))\n",
        "\n",
        "    # 探索した結果の保存\n",
        "    result = {'lr': learning_rate, 'n_hidden': n_hidden,\n",
        "              'val_acc': val_accuracy_list,\n",
        "              'train_acc': train_accuracy_list,\n",
        "              'train_loss': train_loss_list}\n",
        "    param_search_list.append(result)\n",
        "    print(result['lr'], result['n_hidden'], result['train_acc'][-1], result['val_acc'][-1])"
      ]
    },
    {
      "cell_type": "code",
      "source": [
        "# 学習結果の表示\n",
        "for ps in param_search_list:\n",
        "    print(\"lr:\", ps['lr'],\n",
        "          \"n_hidden\", ps['n_hidden'],\n",
        "          \"train accuracy:\", ps['train_acc'][-1],\n",
        "          \"validation accuracy:\", ps['val_acc'][-1])\n",
        "\n",
        "# グラフプロット\n",
        "plt.figure()\n",
        "for ps in param_search_list:\n",
        "    plt.plot(ps['val_acc'], label='n_hidden=%d' % ps['n_hidden'])\n",
        "plt.xlabel(\"epoch\")     # x軸ラベル\n",
        "plt.ylabel(\"accuracy\")  # y軸ラベル\n",
        "plt.legend()            # 凡例\n",
        "plt.savefig(\"figure2.svg\")\n",
        "plt.show()"
      ],
      "metadata": {
        "id": "SFpD0O03X65q",
        "outputId": "b3c86ffb-ce5b-4962-fcc9-44a408b9def1",
        "colab": {
          "base_uri": "https://localhost:8080/",
          "height": 536
        }
      },
      "execution_count": 11,
      "outputs": [
        {
          "output_type": "stream",
          "name": "stdout",
          "text": [
            "lr: 0.01 n_hidden 16 train accuracy: tensor(0.1123, device='cuda:0') validation accuracy: 0.11258333333333333\n",
            "lr: 0.01 n_hidden 32 train accuracy: tensor(0.8432, device='cuda:0') validation accuracy: 0.8409166666666666\n",
            "lr: 0.01 n_hidden 64 train accuracy: tensor(0.9575, device='cuda:0') validation accuracy: 0.9434166666666667\n",
            "lr: 0.01 n_hidden 128 train accuracy: tensor(0.9569, device='cuda:0') validation accuracy: 0.9435833333333333\n",
            "lr: 0.01 n_hidden 256 train accuracy: tensor(0.9337, device='cuda:0') validation accuracy: 0.9245833333333333\n"
          ]
        },
        {
          "output_type": "display_data",
          "data": {
            "text/plain": [
              "<Figure size 640x480 with 1 Axes>"
            ],
            "image/png": "[encoded data removed]"
          },
          "metadata": {}
        }
      ]
    },
    {
      "cell_type": "code",
      "source": [
        "n_hidden_list = [16, 32, 64, 128, 256]\n",
        "\n",
        "param_search_list = []\n",
        "\n",
        "# 誤差関数の設定\n",
        "criterion = nn.CrossEntropyLoss()\n",
        "if use_cuda:\n",
        "    criterion.cuda()\n",
        "\n",
        "for channel_size in channel_list:\n",
        "    for n_hidden in n_hidden_list:\n",
        "        model = CNN(out_channels=channel_size, hidden_size=n_hidden)\n",
        "        if use_cuda:\n",
        "            model.cuda()\n",
        "    \n",
        "        optimizer = torch.optim.SGD(model.parameters(), lr=learning_rate, momentum=0.9)\n",
        "    \n",
        "        epoch_list = []\n",
        "        train_loss_list = []\n",
        "        train_accuracy_list = []\n",
        "        val_accuracy_list = []\n",
        "    \n",
        "        # ネットワークを学習モードへ変更\n",
        "        model.train()\n",
        "    \n",
        "        iteration = 1\n",
        "        for epoch in range(1, epoch_num+1):\n",
        "            count, sum_loss = 0.0, 0.0\n",
        "            \n",
        "            perm = np.random.permutation(num_train_data)\n",
        "            for i in range(0, num_train_data, batch_size):\n",
        "                x_batch = x_train[perm[i:i+batch_size]]\n",
        "                y_batch = y_train[perm[i:i+batch_size]]\n",
        "    \n",
        "                x_batch = torch.from_numpy(x_batch).type(torch.float32)\n",
        "                y_batch = torch.from_numpy(y_batch).type(torch.int64)\n",
        "    \n",
        "                if use_cuda:\n",
        "                    x_batch = x_batch.cuda()\n",
        "                    y_batch = y_batch.cuda()\n",
        "    \n",
        "                y = model(x_batch)\n",
        "    \n",
        "                loss = criterion(y, y_batch)\n",
        "                \n",
        "                model.zero_grad()\n",
        "                loss.backward()\n",
        "                optimizer.step()\n",
        "    \n",
        "                sum_loss += loss.item()\n",
        "                pred = torch.argmax(y, dim=1)\n",
        "                count += torch.sum(pred == y_batch)\n",
        "    \n",
        "                iteration += 1\n",
        "                \n",
        "            # 検証データでの精度の確認\n",
        "            val_correct_count = 0\n",
        "            for i in range(num_val_data):\n",
        "                input = x_val[i:i+1]\n",
        "                label = y_val[i:i+1]\n",
        "                input = torch.from_numpy(input).type(torch.float32)\n",
        "                label = torch.from_numpy(label).type(torch.int64)\n",
        "                if use_cuda:\n",
        "                    input = input.cuda()\n",
        "                    label = label.cuda()\n",
        "                y = model(input)\n",
        "                pred = torch.argmax(y)\n",
        "                if pred == label:\n",
        "                  val_correct_count += 1\n",
        "    \n",
        "            # 学習途中のlossと精度の保存\n",
        "            epoch_list.append(epoch)\n",
        "            train_loss_list.append(sum_loss / num_train_data)\n",
        "            train_accuracy_list.append(count / num_train_data)\n",
        "            val_accuracy_list.append(val_correct_count / num_val_data)\n",
        "                \n",
        "            print(\"epoch: {}, mean loss: {}, mean accuracy: {}\".format(epoch,\n",
        "                                                                      sum_loss / n_iter,\n",
        "                                                                      count.item() / num_train_data))\n",
        "    \n",
        "        # 探索した結果の保存\n",
        "        result = {'lr': learning_rate, 'channel_size': channel_size, 'n_hidden': n_hidden,\n",
        "                  'val_acc': val_accuracy_list,\n",
        "                  'train_acc': train_accuracy_list,\n",
        "                  'train_loss': train_loss_list}\n",
        "        param_search_list.append(result)\n",
        "        print(result['lr'], result['channel_size'], result['n_hidden'], result['train_acc'][-1], result['val_acc'][-1])"
      ],
      "metadata": {
        "id": "pnbtXpA5coZE",
        "outputId": "fd609353-7c0d-4bd8-bb04-7120a004a362",
        "colab": {
          "base_uri": "https://localhost:8080/"
        }
      },
      "execution_count": 12,
      "outputs": [
        {
          "output_type": "stream",
          "name": "stdout",
          "text": [
            "epoch: 1, mean loss: 3.221383305887381, mean accuracy: 0.112125\n",
            "epoch: 2, mean loss: 2.3016081740458807, mean accuracy: 0.1123125\n",
            "epoch: 3, mean loss: 2.301485825081666, mean accuracy: 0.1123125\n",
            "epoch: 4, mean loss: 2.3016346911589305, mean accuracy: 0.1123125\n",
            "epoch: 5, mean loss: 2.301493603984515, mean accuracy: 0.1123125\n",
            "epoch: 6, mean loss: 2.301552104949951, mean accuracy: 0.1123125\n",
            "epoch: 7, mean loss: 2.301601040860017, mean accuracy: 0.1123125\n",
            "epoch: 8, mean loss: 2.301559705038865, mean accuracy: 0.11164583333333333\n",
            "epoch: 9, mean loss: 2.30153420517842, mean accuracy: 0.1123125\n",
            "epoch: 10, mean loss: 2.3015760660171507, mean accuracy: 0.1123125\n",
            "0.01 32 16 tensor(0.1123, device='cuda:0') 0.11258333333333333\n",
            "epoch: 1, mean loss: 3.628724118601531, mean accuracy: 0.4668541666666667\n",
            "epoch: 2, mean loss: 0.4226035002929469, mean accuracy: 0.8689166666666667\n",
            "epoch: 3, mean loss: 0.35902520585805175, mean accuracy: 0.88675\n",
            "epoch: 4, mean loss: 0.4149120478269955, mean accuracy: 0.8684791666666667\n",
            "epoch: 5, mean loss: 0.43686311688895024, mean accuracy: 0.8621041666666667\n",
            "epoch: 6, mean loss: 0.423228199283282, mean accuracy: 0.8662708333333333\n",
            "epoch: 7, mean loss: 0.40156815899536014, mean accuracy: 0.8742916666666667\n",
            "epoch: 8, mean loss: 0.4003275020048022, mean accuracy: 0.873375\n",
            "epoch: 9, mean loss: 0.39932444092507163, mean accuracy: 0.8746041666666666\n",
            "epoch: 10, mean loss: 0.38950203442946074, mean accuracy: 0.8789583333333333\n",
            "0.01 32 32 tensor(0.8790, device='cuda:0') 0.86725\n",
            "epoch: 1, mean loss: 2.8243513236132762, mean accuracy: 0.763875\n",
            "epoch: 2, mean loss: 0.48040539339805644, mean accuracy: 0.8532916666666667\n",
            "epoch: 3, mean loss: 0.36652782989355426, mean accuracy: 0.8864375\n",
            "epoch: 4, mean loss: 0.28800867665559055, mean accuracy: 0.9087291666666667\n",
            "epoch: 5, mean loss: 0.2483987585020562, mean accuracy: 0.9216041666666667\n",
            "epoch: 6, mean loss: 0.21623464952378224, mean accuracy: 0.9328333333333333\n",
            "epoch: 7, mean loss: 0.20412688235907506, mean accuracy: 0.9367708333333333\n",
            "epoch: 8, mean loss: 0.19776794799448302, mean accuracy: 0.9378333333333333\n",
            "epoch: 9, mean loss: 0.16832054565117385, mean accuracy: 0.9472291666666667\n",
            "epoch: 10, mean loss: 0.16147352325497194, mean accuracy: 0.9485625\n",
            "0.01 32 64 tensor(0.9486, device='cuda:0') 0.9389166666666666\n",
            "epoch: 1, mean loss: 3.1625384888301293, mean accuracy: 0.7883958333333333\n",
            "epoch: 2, mean loss: 0.2506391749717295, mean accuracy: 0.9243541666666667\n",
            "epoch: 3, mean loss: 0.20559581723064185, mean accuracy: 0.9371875\n",
            "epoch: 4, mean loss: 0.16164030303480104, mean accuracy: 0.9502916666666666\n",
            "epoch: 5, mean loss: 0.15243800544024755, mean accuracy: 0.9535416666666666\n",
            "epoch: 6, mean loss: 0.13800920404028147, mean accuracy: 0.9569375\n",
            "epoch: 7, mean loss: 0.10954581797219969, mean accuracy: 0.9659583333333334\n",
            "epoch: 8, mean loss: 0.11618992098956368, mean accuracy: 0.9628541666666667\n",
            "epoch: 9, mean loss: 0.09790244031270655, mean accuracy: 0.9700625\n",
            "epoch: 10, mean loss: 0.10169145311180425, mean accuracy: 0.9680625\n",
            "0.01 32 128 tensor(0.9681, device='cuda:0') 0.94875\n",
            "epoch: 1, mean loss: 2.398668867070228, mean accuracy: 0.8965833333333333\n",
            "epoch: 2, mean loss: 0.18746731441933662, mean accuracy: 0.9450416666666667\n",
            "epoch: 3, mean loss: 0.14460833579457055, mean accuracy: 0.9557291666666666\n",
            "epoch: 4, mean loss: 0.13590207197024332, mean accuracy: 0.9603333333333334\n",
            "epoch: 5, mean loss: 0.1331134027762649, mean accuracy: 0.9604375\n",
            "epoch: 6, mean loss: 0.10104919661631963, mean accuracy: 0.9686875\n",
            "epoch: 7, mean loss: 0.09982481347688008, mean accuracy: 0.9700416666666667\n",
            "epoch: 8, mean loss: 0.13837618189524317, mean accuracy: 0.9618333333333333\n",
            "epoch: 9, mean loss: 0.09720612665975446, mean accuracy: 0.971875\n",
            "epoch: 10, mean loss: 0.09925602197520979, mean accuracy: 0.9709791666666666\n",
            "0.01 32 256 tensor(0.9710, device='cuda:0') 0.9559166666666666\n",
            "epoch: 1, mean loss: 5.159491465116541, mean accuracy: 0.510875\n",
            "epoch: 2, mean loss: 0.4330592055028925, mean accuracy: 0.8759375\n",
            "epoch: 3, mean loss: 0.37300474921551846, mean accuracy: 0.8968958333333333\n",
            "epoch: 4, mean loss: 0.4491648104197035, mean accuracy: 0.869375\n",
            "epoch: 5, mean loss: 0.4378218070914348, mean accuracy: 0.8716875\n",
            "epoch: 6, mean loss: 0.3684384916598598, mean accuracy: 0.8904375\n",
            "epoch: 7, mean loss: 0.33649656451307236, mean accuracy: 0.899375\n",
            "epoch: 8, mean loss: 0.29235454262234273, mean accuracy: 0.9102083333333333\n",
            "epoch: 9, mean loss: 0.29217023053206503, mean accuracy: 0.91275\n",
            "epoch: 10, mean loss: 0.2846126047583918, mean accuracy: 0.9148333333333334\n",
            "0.01 64 16 tensor(0.9148, device='cuda:0') 0.9021666666666667\n",
            "epoch: 1, mean loss: 4.073417462036014, mean accuracy: 0.7231041666666667\n",
            "epoch: 2, mean loss: 0.39017247622832657, mean accuracy: 0.8930208333333334\n",
            "epoch: 3, mean loss: 0.35482951132580637, mean accuracy: 0.90275\n",
            "epoch: 4, mean loss: 0.31272167672868817, mean accuracy: 0.9139166666666667\n",
            "epoch: 5, mean loss: 0.2757550753459024, mean accuracy: 0.9233958333333333\n",
            "epoch: 6, mean loss: 0.24855331549964224, mean accuracy: 0.9309583333333333\n",
            "epoch: 7, mean loss: 0.29106531795890384, mean accuracy: 0.9211041666666666\n",
            "epoch: 8, mean loss: 0.23876391380326822, mean accuracy: 0.9338125\n",
            "epoch: 9, mean loss: 0.2448177317312608, mean accuracy: 0.9324375\n",
            "epoch: 10, mean loss: 0.2287993752164766, mean accuracy: 0.9363541666666667\n",
            "0.01 64 32 tensor(0.9364, device='cuda:0') 0.9165833333333333\n",
            "epoch: 1, mean loss: 11.970509666825334, mean accuracy: 0.8185\n",
            "epoch: 2, mean loss: 0.3360710267132769, mean accuracy: 0.8971875\n",
            "epoch: 3, mean loss: 0.2829991763302436, mean accuracy: 0.9143333333333333\n",
            "epoch: 4, mean loss: 0.22982465284100423, mean accuracy: 0.9297291666666667\n",
            "epoch: 5, mean loss: 0.19669889719613518, mean accuracy: 0.9397291666666666\n",
            "epoch: 6, mean loss: 0.1673309084571277, mean accuracy: 0.9490416666666667\n",
            "epoch: 7, mean loss: 0.14828190715246212, mean accuracy: 0.9549166666666666\n",
            "epoch: 8, mean loss: 0.1306396052260728, mean accuracy: 0.9597916666666667\n",
            "epoch: 9, mean loss: 0.11920040372448663, mean accuracy: 0.964125\n",
            "epoch: 10, mean loss: 0.12074381461522231, mean accuracy: 0.9638541666666667\n",
            "0.01 64 64 tensor(0.9639, device='cuda:0') 0.9506666666666667\n",
            "epoch: 1, mean loss: 6.877636735544851, mean accuracy: 0.7215833333333334\n",
            "epoch: 2, mean loss: 0.36950166871150336, mean accuracy: 0.9083125\n",
            "epoch: 3, mean loss: 0.3167113832818965, mean accuracy: 0.920125\n",
            "epoch: 4, mean loss: 0.2946962862741202, mean accuracy: 0.9263125\n",
            "epoch: 5, mean loss: 0.2927910295004646, mean accuracy: 0.9264166666666667\n",
            "epoch: 6, mean loss: 0.26257190903027855, mean accuracy: 0.9322916666666666\n",
            "epoch: 7, mean loss: 0.25690975729764126, mean accuracy: 0.9346458333333333\n",
            "epoch: 8, mean loss: 0.2454132290246586, mean accuracy: 0.9367291666666666\n",
            "epoch: 9, mean loss: 0.22929906327432642, mean accuracy: 0.9417083333333334\n",
            "epoch: 10, mean loss: 0.2595544869157796, mean accuracy: 0.9344791666666666\n",
            "0.01 64 128 tensor(0.9345, device='cuda:0') 0.93\n",
            "epoch: 1, mean loss: 5.760407169473668, mean accuracy: 0.7357708333333334\n",
            "epoch: 2, mean loss: 0.4017873682702581, mean accuracy: 0.8746041666666666\n",
            "epoch: 3, mean loss: 0.3341980164560179, mean accuracy: 0.8955416666666667\n",
            "epoch: 4, mean loss: 0.2951539681448291, mean accuracy: 0.9058958333333333\n",
            "epoch: 5, mean loss: 0.2860212955934306, mean accuracy: 0.9089583333333333\n",
            "epoch: 6, mean loss: 0.2616031695002069, mean accuracy: 0.9160625\n",
            "epoch: 7, mean loss: 0.2498234280385077, mean accuracy: 0.9191458333333333\n",
            "epoch: 8, mean loss: 0.23383002164773642, mean accuracy: 0.9247708333333333\n",
            "epoch: 9, mean loss: 0.2280942228467514, mean accuracy: 0.9259791666666667\n",
            "epoch: 10, mean loss: 0.20828494750894605, mean accuracy: 0.9320416666666667\n",
            "0.01 64 256 tensor(0.9320, device='cuda:0') 0.9275\n",
            "epoch: 1, mean loss: 22.51548192302386, mean accuracy: 0.16441666666666666\n",
            "epoch: 2, mean loss: 2.301560697456201, mean accuracy: 0.1123125\n",
            "epoch: 3, mean loss: 2.3015844787160558, mean accuracy: 0.1123125\n",
            "epoch: 4, mean loss: 2.3015821238358813, mean accuracy: 0.1123125\n",
            "epoch: 5, mean loss: 2.3015305290619534, mean accuracy: 0.1123125\n",
            "epoch: 6, mean loss: 2.3016152754426003, mean accuracy: 0.1123125\n",
            "epoch: 7, mean loss: 2.3015169868866603, mean accuracy: 0.1123125\n",
            "epoch: 8, mean loss: 2.3015896037220953, mean accuracy: 0.1123125\n",
            "epoch: 9, mean loss: 2.3015313391884167, mean accuracy: 0.1123125\n",
            "epoch: 10, mean loss: 2.3015932604670524, mean accuracy: 0.1123125\n",
            "0.01 128 16 tensor(0.1123, device='cuda:0') 0.11258333333333333\n",
            "epoch: 1, mean loss: 20.961382503807545, mean accuracy: 0.1091875\n",
            "epoch: 2, mean loss: 1.995776851971944, mean accuracy: 0.23797916666666666\n",
            "epoch: 3, mean loss: 1.7901763632893561, mean accuracy: 0.28208333333333335\n",
            "epoch: 4, mean loss: 1.7300325803458692, mean accuracy: 0.3110625\n",
            "epoch: 5, mean loss: 1.7213069004317125, mean accuracy: 0.3165625\n",
            "epoch: 6, mean loss: 1.7071221647163233, mean accuracy: 0.3245208333333333\n",
            "epoch: 7, mean loss: 1.6992589704692365, mean accuracy: 0.33116666666666666\n",
            "epoch: 8, mean loss: 1.691689249376456, mean accuracy: 0.33639583333333334\n",
            "epoch: 9, mean loss: 1.6862326222161452, mean accuracy: 0.3396458333333333\n",
            "epoch: 10, mean loss: 1.6806515097618102, mean accuracy: 0.3451458333333333\n",
            "0.01 128 32 tensor(0.3451, device='cuda:0') 0.35875\n",
            "epoch: 1, mean loss: 7.9044597883398335, mean accuracy: 0.8102291666666667\n",
            "epoch: 2, mean loss: 0.2277055520253877, mean accuracy: 0.934375\n",
            "epoch: 3, mean loss: 0.19426591179799288, mean accuracy: 0.9453541666666667\n",
            "epoch: 4, mean loss: 0.167382904109157, mean accuracy: 0.9532291666666667\n",
            "epoch: 5, mean loss: 0.14659191517663808, mean accuracy: 0.9589791666666667\n",
            "epoch: 6, mean loss: 0.14056796142055342, mean accuracy: 0.9606666666666667\n",
            "epoch: 7, mean loss: 0.12682103133314135, mean accuracy: 0.9646875\n",
            "epoch: 8, mean loss: 0.13630691931272546, mean accuracy: 0.9637291666666666\n",
            "epoch: 9, mean loss: 0.12011125645852493, mean accuracy: 0.965625\n",
            "epoch: 10, mean loss: 0.11841442417159366, mean accuracy: 0.966625\n",
            "0.01 128 64 tensor(0.9666, device='cuda:0') 0.9449166666666666\n",
            "epoch: 1, mean loss: 24.593769354241278, mean accuracy: 0.8815833333333334\n",
            "epoch: 2, mean loss: 0.1810926704434678, mean accuracy: 0.9487708333333333\n",
            "epoch: 3, mean loss: 0.12718959648821812, mean accuracy: 0.9637916666666667\n",
            "epoch: 4, mean loss: 0.12274676035255348, mean accuracy: 0.9652291666666667\n",
            "epoch: 5, mean loss: 0.10371522574375074, mean accuracy: 0.9705416666666666\n",
            "epoch: 6, mean loss: 0.07509255480969539, mean accuracy: 0.9777708333333334\n",
            "epoch: 7, mean loss: 0.09250688599495334, mean accuracy: 0.973875\n",
            "epoch: 8, mean loss: 0.07932613198172475, mean accuracy: 0.9778541666666667\n",
            "epoch: 9, mean loss: 0.10262485007976162, mean accuracy: 0.9735833333333334\n",
            "epoch: 10, mean loss: 0.08234515946974928, mean accuracy: 0.9783125\n",
            "0.01 128 128 tensor(0.9783, device='cuda:0') 0.9583333333333334\n",
            "epoch: 1, mean loss: 14.984244394411023, mean accuracy: 0.8894791666666667\n",
            "epoch: 2, mean loss: 0.14642875014881915, mean accuracy: 0.9540833333333333\n",
            "epoch: 3, mean loss: 0.11334066415438429, mean accuracy: 0.9645416666666666\n",
            "epoch: 4, mean loss: 0.09555712780711474, mean accuracy: 0.9702708333333333\n",
            "epoch: 5, mean loss: 0.0827629290278613, mean accuracy: 0.9747291666666666\n",
            "epoch: 6, mean loss: 0.07498836842848201, mean accuracy: 0.9765\n",
            "epoch: 7, mean loss: 0.06809236990447971, mean accuracy: 0.9781875\n",
            "epoch: 8, mean loss: 0.05633296495664884, mean accuracy: 0.9819375\n",
            "epoch: 9, mean loss: 0.07038126633860126, mean accuracy: 0.9790208333333333\n",
            "epoch: 10, mean loss: 0.07761984746284725, mean accuracy: 0.9774375\n",
            "0.01 128 256 tensor(0.9774, device='cuda:0') 0.9499166666666666\n",
            "epoch: 1, mean loss: 33.80364628682534, mean accuracy: 0.10927083333333333\n",
            "epoch: 2, mean loss: 2.301597427825133, mean accuracy: 0.1123125\n",
            "epoch: 3, mean loss: 2.3015611176689466, mean accuracy: 0.1123125\n",
            "epoch: 4, mean loss: 2.301534449060758, mean accuracy: 0.1123125\n",
            "epoch: 5, mean loss: 2.3015502775708834, mean accuracy: 0.1123125\n",
            "epoch: 6, mean loss: 2.3015921379129094, mean accuracy: 0.1123125\n",
            "epoch: 7, mean loss: 2.30161156107982, mean accuracy: 0.1123125\n",
            "epoch: 8, mean loss: 2.301566492517789, mean accuracy: 0.1123125\n",
            "epoch: 9, mean loss: 2.301590363681316, mean accuracy: 0.1123125\n",
            "epoch: 10, mean loss: 2.3015660534302396, mean accuracy: 0.1123125\n",
            "0.01 256 16 tensor(0.1123, device='cuda:0') 0.11258333333333333\n",
            "epoch: 1, mean loss: 26.875261357178292, mean accuracy: 0.6482708333333334\n",
            "epoch: 2, mean loss: 0.4630638761756321, mean accuracy: 0.8552916666666667\n",
            "epoch: 3, mean loss: 0.45305676603068906, mean accuracy: 0.8599166666666667\n",
            "epoch: 4, mean loss: 0.4058933707885444, mean accuracy: 0.8742083333333334\n",
            "epoch: 5, mean loss: 0.3895412289227049, mean accuracy: 0.879\n",
            "epoch: 6, mean loss: 0.37907360031579934, mean accuracy: 0.8847291666666667\n",
            "epoch: 7, mean loss: 0.3862603647323946, mean accuracy: 0.8800833333333333\n",
            "epoch: 8, mean loss: 0.42618261746441327, mean accuracy: 0.8664166666666666\n",
            "epoch: 9, mean loss: 0.3829225148074329, mean accuracy: 0.8829583333333333\n",
            "epoch: 10, mean loss: 0.39213602847109236, mean accuracy: 0.879\n",
            "0.01 256 32 tensor(0.8790, device='cuda:0') 0.8736666666666667\n",
            "epoch: 1, mean loss: 50.87307615562653, mean accuracy: 0.7199375\n",
            "epoch: 2, mean loss: 0.4593667863868177, mean accuracy: 0.8678333333333333\n",
            "epoch: 3, mean loss: 0.39728260968501367, mean accuracy: 0.8837083333333333\n",
            "epoch: 4, mean loss: 0.35641506461737055, mean accuracy: 0.9001875\n",
            "epoch: 5, mean loss: 0.2993311419306944, mean accuracy: 0.9129166666666667\n",
            "epoch: 6, mean loss: 0.28839054331183434, mean accuracy: 0.917375\n",
            "epoch: 7, mean loss: 0.27695886835766337, mean accuracy: 0.9200208333333333\n",
            "epoch: 8, mean loss: 0.23328841779536258, mean accuracy: 0.9320416666666667\n",
            "epoch: 9, mean loss: 0.22851686722133308, mean accuracy: 0.934125\n",
            "epoch: 10, mean loss: 0.22889231973482918, mean accuracy: 0.9343333333333333\n",
            "0.01 256 64 tensor(0.9343, device='cuda:0') 0.9273333333333333\n",
            "epoch: 1, mean loss: 93.77228987969768, mean accuracy: 0.8597916666666666\n",
            "epoch: 2, mean loss: 0.19189190625523528, mean accuracy: 0.9421875\n",
            "epoch: 3, mean loss: 0.14813629541701326, mean accuracy: 0.9561875\n",
            "epoch: 4, mean loss: 0.13017254929388097, mean accuracy: 0.961125\n",
            "epoch: 5, mean loss: 0.12201022715501798, mean accuracy: 0.961875\n",
            "epoch: 6, mean loss: 0.12931267976528033, mean accuracy: 0.9619791666666667\n",
            "epoch: 7, mean loss: 0.0995517275223392, mean accuracy: 0.9702083333333333\n",
            "epoch: 8, mean loss: 0.08698397307404472, mean accuracy: 0.9731666666666666\n",
            "epoch: 9, mean loss: 0.08072202548501081, mean accuracy: 0.975875\n",
            "epoch: 10, mean loss: 0.08753825332920921, mean accuracy: 0.9749375\n",
            "0.01 256 128 tensor(0.9749, device='cuda:0') 0.94975\n",
            "epoch: 1, mean loss: 79.2319191445286, mean accuracy: 0.7624375\n",
            "epoch: 2, mean loss: 0.3477906614231567, mean accuracy: 0.8924166666666666\n",
            "epoch: 3, mean loss: 0.3095501448803892, mean accuracy: 0.9028333333333334\n",
            "epoch: 4, mean loss: 0.28760340499381226, mean accuracy: 0.9104791666666666\n",
            "epoch: 5, mean loss: 0.26562095754779874, mean accuracy: 0.916625\n",
            "epoch: 6, mean loss: 0.24983097297760348, mean accuracy: 0.9220416666666666\n",
            "epoch: 7, mean loss: 0.24144410237980385, mean accuracy: 0.9247083333333334\n",
            "epoch: 8, mean loss: 0.25322605050945035, mean accuracy: 0.9194166666666667\n",
            "epoch: 9, mean loss: 0.22363138369595012, mean accuracy: 0.9309583333333333\n",
            "epoch: 10, mean loss: 0.21273117936992397, mean accuracy: 0.9334583333333333\n",
            "0.01 256 256 tensor(0.9335, device='cuda:0') 0.9265\n"
          ]
        }
      ]
    }
  ],
  "metadata": {
    "accelerator": "GPU",
    "colab": {
      "provenance": []
    },
    "kernelspec": {
      "display_name": "Python 3",
      "language": "python",
      "name": "python3"
    },
    "language_info": {
      "codemirror_mode": {
        "name": "ipython",
        "version": 3
      },
      "file_extension": ".py",
      "mimetype": "text/x-python",
      "name": "python",
      "nbconvert_exporter": "python",
      "pygments_lexer": "ipython3",
      "version": "3.6.9"
    }
  },
  "nbformat": 4,
  "nbformat_minor": 0
}